{
 "cells": [
  {
   "cell_type": "markdown",
   "metadata": {},
   "source": [
    "Problem Statement 1:"
   ]
  },
  {
   "cell_type": "markdown",
   "metadata": {},
   "source": [
    "In each of the following situations, state whether it is a correctly stated hypothesis\n",
    "testing problem and why?\n",
    "1. H0: μ = 25, H1: μ ≠ 25 : correct \n",
    "2. H0: σ > 10, H1: σ = 10 : incorrect\n",
    "3. H0: x = 50, H1: x ≠ 50 : correct\n",
    "4. H0: p = 0.1, H1: p = 0.5: incorrect\n",
    "5. H0: s = 30, H1: s > 30: incorrect"
   ]
  },
  {
   "cell_type": "markdown",
   "metadata": {},
   "source": [
    "Problem Statement 2:"
   ]
  },
  {
   "cell_type": "markdown",
   "metadata": {},
   "source": [
    "The college bookstore tells prospective students that the average cost of its\n",
    "textbooks is Rs. 52 with a standard deviation of Rs. 4.50. A group of smart statistics\n",
    "students thinks that the average cost is higher. To test the bookstore’s claim against\n",
    "their alternative, the students will select a random sample of size 100. Assume that\n",
    "the mean from their random sample is Rs. 52.80. Perform a hypothesis test at the\n",
    "5% level of significance and state your decision."
   ]
  },
  {
   "cell_type": "code",
   "execution_count": 1,
   "metadata": {},
   "outputs": [],
   "source": [
    "import numpy as np\n",
    "from scipy.stats import norm\n",
    "from numpy import sqrt, abs\n",
    "def z_test(s_mean,p_mean,sigma,n,p):\n",
    "    z_calc=abs((s_mean-p_mean)/(sigma/sqrt(n)))\n",
    "    z_tab = abs(norm.ppf(p))\n",
    "    if z_calc>z_tab:\n",
    "        print(\"The null hypothesis is rejected.\")\n",
    "    else:\n",
    "        print(\"The null hypothesis is accepted\")\n",
    "    "
   ]
  },
  {
   "cell_type": "code",
   "execution_count": 2,
   "metadata": {},
   "outputs": [
    {
     "name": "stdout",
     "output_type": "stream",
     "text": [
      "The null hypothesis is rejected.\n"
     ]
    }
   ],
   "source": [
    "#Ho:mean = Rs 52\n",
    "#H1:mean != Rs 52\n",
    "\n",
    "z_test(52.80, 52, 4.50, 100, 0.05)"
   ]
  },
  {
   "cell_type": "markdown",
   "metadata": {},
   "source": [
    "Problem Statement 3:"
   ]
  },
  {
   "cell_type": "markdown",
   "metadata": {},
   "source": [
    "A certain chemical pollutant in the Genesee River has been constant for several\n",
    "years with mean μ = 34 ppm (parts per million) and standard deviation σ = 8 ppm. A\n",
    "group of factory representatives whose companies discharge liquids into the river is\n",
    "now claiming that they have lowered the average with improved filtration devices. A\n",
    "group of environmentalists will test to see if this is true at the 1% level of\n",
    "significance. Assume \\ that their sample of size 50 gives a mean of 32.5 ppm.\n",
    "Perform a hypothesis test at the 1% level of significance and state your decision."
   ]
  },
  {
   "cell_type": "code",
   "execution_count": 3,
   "metadata": {},
   "outputs": [],
   "source": [
    "#Ho=34\n",
    "#H1<34\n",
    "import numpy as np\n",
    "from scipy.stats import norm\n",
    "from numpy import sqrt, abs\n",
    "def z_test(s_mean,p_mean,sigma,n,p):\n",
    "    z_calc=(s_mean-p_mean)/(sigma/sqrt(n))\n",
    "    z_tab = (norm.ppf(p))\n",
    "    if abs(z_calc)>abs(z_tab):\n",
    "        print(\"The null hypothesis is rejected.\")\n",
    "    else:\n",
    "        print(\"The null hypothesis is accepted\")\n",
    "    "
   ]
  },
  {
   "cell_type": "code",
   "execution_count": 4,
   "metadata": {},
   "outputs": [
    {
     "name": "stdout",
     "output_type": "stream",
     "text": [
      "The null hypothesis is accepted\n"
     ]
    }
   ],
   "source": [
    "z_test(32.5, 34, 8, 50, 0.01)"
   ]
  },
  {
   "cell_type": "markdown",
   "metadata": {},
   "source": [
    "Problem Statement 4:"
   ]
  },
  {
   "cell_type": "markdown",
   "metadata": {},
   "source": [
    "Based on population figures and other general information on the U.S. population,\n",
    "suppose it has been estimated that, on average, a family of four in the U.S. spends\n",
    "about $1135 annually on dental expenditures. Suppose further that a regional dental\n",
    "association wants to test to determine if this figure is accurate for their area of\n",
    "country. To test this, 22 families of 4 are randomly selected from the population in\n",
    "that area of the country and a log is kept of the family’s dental expenditure for one\n",
    "year. The resulting data are given below. Assuming, that dental expenditure is\n",
    "normally distributed in the population, use the data and an alpha of 0.5 to test the\n",
    "dental association’s hypothesis.\n",
    "1008, 812, 1117, 1323, 1308, 1415, 831, 1021, 1287, 851, 930, 730, 699,\n",
    "872, 913, 944, 954, 987, 1695, 995, 1003, 994"
   ]
  },
  {
   "cell_type": "code",
   "execution_count": 5,
   "metadata": {},
   "outputs": [
    {
     "name": "stdout",
     "output_type": "stream",
     "text": [
      "1031.32 234.85\n"
     ]
    }
   ],
   "source": [
    "import numpy as np\n",
    "from scipy import stats\n",
    "samples=(1008, 812, 1117, 1323, 1308, 1415, 831, 1021, 1287, 851, 930, 730, 699, 872, 913, 944, 954, 987, 1695, 995, 1003, 994)\n",
    "s_mean = round(np.mean(samples),2)\n",
    "sd = round(np.std(samples),2)\n",
    "print(s_mean, sd)\n"
   ]
  },
  {
   "cell_type": "code",
   "execution_count": 6,
   "metadata": {},
   "outputs": [],
   "source": [
    "from numpy import sqrt, abs, round\n",
    "def t_test(s_mean,p_mean,n,sd, alpha):\n",
    "    t=round(abs((s_mean-p_mean)/(sd/sqrt(n))),2)\n",
    "    df = n-1\n",
    "    t_tab=round(abs(stats.t.ppf(alpha, df)),2)\n",
    "    if abs(t)>abs(t_tab):\n",
    "        print(\"The null hypothesis is rejected.\")\n",
    "    else:\n",
    "        print(\"The null hypothesis is accepted.\")\n",
    "    "
   ]
  },
  {
   "cell_type": "code",
   "execution_count": 7,
   "metadata": {},
   "outputs": [
    {
     "name": "stdout",
     "output_type": "stream",
     "text": [
      "The null hypothesis is accepted.\n"
     ]
    }
   ],
   "source": [
    "t_test(1031.32, 1135, 22, 234.85, 0.025)"
   ]
  },
  {
   "cell_type": "markdown",
   "metadata": {},
   "source": [
    "Problem Statement 5:"
   ]
  },
  {
   "cell_type": "markdown",
   "metadata": {},
   "source": [
    "In a report prepared by the Economic Research Department of a major bank the\n",
    "Department manager maintains that the average annual family income on Metropolis\n",
    "is 48,432. What do you conclude about the validity of the report if a random sample\n",
    "of 400 families shows and average income of 48,574 with a standard deviation of\n",
    "2000?"
   ]
  },
  {
   "cell_type": "code",
   "execution_count": 12,
   "metadata": {},
   "outputs": [],
   "source": [
    "#Ho=48,432\n",
    "#H1!=48,432\n",
    "#alpha=0.05\n",
    "import numpy as np\n",
    "from scipy.stats import norm\n",
    "from numpy import sqrt, abs\n",
    "def z_test(s_mean,p_mean,sigma,n,p):\n",
    "    z_calc=(s_mean-p_mean)/(sigma/sqrt(n))\n",
    "    z_tab = (norm.ppf(p/2))\n",
    "    if abs(z_calc)>abs(z_tab):\n",
    "        print(\"The null hypothesis is rejected.\")\n",
    "    else:\n",
    "        print(\"The null hypothesis is accepted\")\n"
   ]
  },
  {
   "cell_type": "code",
   "execution_count": 13,
   "metadata": {},
   "outputs": [
    {
     "name": "stdout",
     "output_type": "stream",
     "text": [
      "The null hypothesis is accepted\n"
     ]
    }
   ],
   "source": [
    "z_test(48573,48432,2000,400,0.05)"
   ]
  },
  {
   "cell_type": "markdown",
   "metadata": {},
   "source": [
    "Problem Statement 6:"
   ]
  },
  {
   "cell_type": "markdown",
   "metadata": {},
   "source": [
    "Suppose that in past years the average price per square foot for warehouses in the\n",
    "United States has been  32.28 dollars . A national real estate investor wants to determine\n",
    "whether that figure has changed now. The investor hires a researcher who randomly\n",
    "samples 19 warehouses that are for sale across the United States and finds that the\n",
    "mean price per square foot is 31.67 dollars, with a standard deviation of $ 1.29. assume\n",
    "that the prices of warehouse footage are normally distributed in population. If the\n",
    "researcher uses a 5 percent level of significance, what statistical conclusion can be\n",
    "reached? What are the hypotheses?"
   ]
  },
  {
   "cell_type": "code",
   "execution_count": 10,
   "metadata": {},
   "outputs": [],
   "source": [
    "import numpy as np\n",
    "from scipy import stats"
   ]
  },
  {
   "cell_type": "code",
   "execution_count": 11,
   "metadata": {},
   "outputs": [],
   "source": [
    "#Ho = 32.28 dollars\n",
    "#H1 != 32.28 dollors\n",
    "#alpha = 0.05\n",
    "from numpy import sqrt, abs, round\n",
    "def t_test(s_mean,p_mean,n,sd, alpha):\n",
    "    t=round(abs((s_mean-p_mean)/(sd/sqrt(n))),2)\n",
    "    df = n-1\n",
    "    t_tab=round(abs(stats.t.ppf(alpha/2, df)),2)\n",
    "    if abs(t)>abs(t_tab):\n",
    "        print(\"The null hypothesis is rejected.\")\n",
    "    else:\n",
    "        print(\"The null hypothesis is accepted.\")\n",
    "        \n",
    "\n",
    "    "
   ]
  },
  {
   "cell_type": "code",
   "execution_count": 12,
   "metadata": {},
   "outputs": [
    {
     "name": "stdout",
     "output_type": "stream",
     "text": [
      "The null hypothesis is accepted.\n"
     ]
    }
   ],
   "source": [
    "t_test(31.67,32.28,19,1.29,0.05)"
   ]
  },
  {
   "cell_type": "markdown",
   "metadata": {},
   "source": [
    "Problem Statement 8:"
   ]
  },
  {
   "cell_type": "markdown",
   "metadata": {},
   "source": [
    "Find the t-score for a sample size of 16 taken from a population with mean 10 when\n",
    "the sample mean is 12 and the sample standard deviation is 1.5."
   ]
  },
  {
   "cell_type": "code",
   "execution_count": 4,
   "metadata": {},
   "outputs": [],
   "source": [
    "from numpy import sqrt\n",
    "def tscore(p_mean,s_mean,sd,n):\n",
    "    t = (s_mean-p_mean)/(sd/sqrt(n))\n",
    "    return t"
   ]
  },
  {
   "cell_type": "code",
   "execution_count": 5,
   "metadata": {},
   "outputs": [
    {
     "data": {
      "text/plain": [
       "5.333333333333333"
      ]
     },
     "execution_count": 5,
     "metadata": {},
     "output_type": "execute_result"
    }
   ],
   "source": [
    "tscore(10,12,1.5,16)"
   ]
  },
  {
   "cell_type": "markdown",
   "metadata": {},
   "source": [
    "Problem Statement 9:"
   ]
  },
  {
   "cell_type": "markdown",
   "metadata": {},
   "source": [
    "Find the t-score below which we can expect 99% of sample means will fall if samples\n",
    "of size 16 are taken from a normally distributed population."
   ]
  },
  {
   "cell_type": "code",
   "execution_count": 20,
   "metadata": {},
   "outputs": [],
   "source": [
    "from numpy import abs, round\n",
    "from scipy import stats\n",
    "def tscore(alpha,n):\n",
    "    df=n-1\n",
    "    t_tab=round((stats.t.ppf(alpha, df)),2)\n",
    "    return t_tab"
   ]
  },
  {
   "cell_type": "code",
   "execution_count": 21,
   "metadata": {},
   "outputs": [
    {
     "data": {
      "text/plain": [
       "-2.6"
      ]
     },
     "execution_count": 21,
     "metadata": {},
     "output_type": "execute_result"
    }
   ],
   "source": [
    "tscore(0.01,16)"
   ]
  },
  {
   "cell_type": "code",
   "execution_count": null,
   "metadata": {},
   "outputs": [],
   "source": []
  }
 ],
 "metadata": {
  "kernelspec": {
   "display_name": "Python 3",
   "language": "python",
   "name": "python3"
  },
  "language_info": {
   "codemirror_mode": {
    "name": "ipython",
    "version": 3
   },
   "file_extension": ".py",
   "mimetype": "text/x-python",
   "name": "python",
   "nbconvert_exporter": "python",
   "pygments_lexer": "ipython3",
   "version": "3.8.3"
  }
 },
 "nbformat": 4,
 "nbformat_minor": 4
}
