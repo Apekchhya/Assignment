{
 "cells": [
  {
   "cell_type": "markdown",
   "metadata": {},
   "source": [
    "Problem Statement 1:"
   ]
  },
  {
   "cell_type": "markdown",
   "metadata": {},
   "source": [
    "Blood glucose levels for obese patients have a mean of 100 with a standard deviation of 15. A researcher thinks that a diet high in raw cornstarch will have a positive effect on\n",
    "blood glucose levels. A sample of 36 patients who have tried the raw cornstarch diet\n",
    "have a mean glucose level of 108. Test the hypothesis that the raw cornstarch had an\n",
    "effect or not."
   ]
  },
  {
   "cell_type": "code",
   "execution_count": 4,
   "metadata": {},
   "outputs": [],
   "source": [
    "#Ho=100\n",
    "#H1!=100\n",
    "#alpha=0.05\n",
    "import numpy as np\n",
    "from scipy.stats import norm\n",
    "from numpy import sqrt, abs\n",
    "def z_test_two_tailed(s_mean,p_mean,sigma,n,p):\n",
    "    z_calc=(s_mean-p_mean)/(sigma/sqrt(n))\n",
    "    z_tab = (norm.ppf(p/2))\n",
    "    print(z_calc, z_tab)\n",
    "    if abs(z_calc)>abs(z_tab):\n",
    "        print(\"The null hypothesis is rejected.\")\n",
    "    else:\n",
    "        print(\"The null hypothesis is accepted\")\n",
    "    "
   ]
  },
  {
   "cell_type": "code",
   "execution_count": 6,
   "metadata": {},
   "outputs": [
    {
     "name": "stdout",
     "output_type": "stream",
     "text": [
      "3.2 -1.9599639845400545\n",
      "The null hypothesis is rejected.\n"
     ]
    }
   ],
   "source": [
    "z_test_two_tailed(108,100,15,36,0.05)"
   ]
  },
  {
   "cell_type": "markdown",
   "metadata": {},
   "source": [
    "Problem Statement 2:"
   ]
  },
  {
   "cell_type": "markdown",
   "metadata": {},
   "source": [
    "In one state, 52% of the voters are Republicans, and 48% are Democrats. In a second\n",
    "state, 47% of the voters are Republicans, and 53% are Democrats. Suppose a simple\n",
    "random sample of 100 voters are surveyed from each state.\n",
    "What is the probability that the survey will show a greater percentage of Republican\n",
    "voters in the second state than in the first state?"
   ]
  },
  {
   "cell_type": "code",
   "execution_count": 30,
   "metadata": {},
   "outputs": [
    {
     "name": "stdout",
     "output_type": "stream",
     "text": [
      "The probability that the survey will show a greater percentage of Repulican voter in the second state than in first state is 0.24\n"
     ]
    }
   ],
   "source": [
    "n1=100\n",
    "n2=100\n",
    "p1 = 0.52\n",
    "q1 = 0.48\n",
    "p2 = 0.47\n",
    "q2 = 0.53\n",
    "mean=p1-p2 #the mean difference in sample proportions\n",
    "sigma = sqrt(p1*q1/n1 + p2*q2/n2) #standard deviation of difference\n",
    "\n",
    "#The problem requires us to find the that p1 is less than p2.\n",
    "#This is equivalent to finding the probability that p1-p2 is less than zero.\n",
    "\n",
    "z=(0-mean)/sigma\n",
    "z_tab = round(norm.cdf(z),2)\n",
    "\n",
    "print(\"The probability that the survey will show a greater percentage of Repulican voter in the second state than in first state is\", z_tab)"
   ]
  },
  {
   "cell_type": "markdown",
   "metadata": {},
   "source": [
    "Problem Statement 3:"
   ]
  },
  {
   "cell_type": "markdown",
   "metadata": {},
   "source": [
    "You take the SAT and score 1100. The mean score for the SAT is 1026 and the standard\n",
    "deviation is 209. How well did you score on the test compared to the average test taker?"
   ]
  },
  {
   "cell_type": "code",
   "execution_count": 15,
   "metadata": {},
   "outputs": [],
   "source": [
    "from scipy.stats import norm\n",
    "from numpy import sqrt, abs\n",
    "def z_test(s_mean,p_mean,sigma):\n",
    "    z=(s_mean-p_mean)/sigma\n",
    "    z_tab = abs(norm.cdf(z))\n",
    "    if z_tab>0.5:\n",
    "        print(\"scored well than average\")\n",
    "    else:\n",
    "        print(\"didn't score well\")\n",
    "    "
   ]
  },
  {
   "cell_type": "code",
   "execution_count": 16,
   "metadata": {},
   "outputs": [
    {
     "name": "stdout",
     "output_type": "stream",
     "text": [
      "scored well than average\n"
     ]
    }
   ],
   "source": [
    "z_test(1100,1026,209)"
   ]
  },
  {
   "cell_type": "code",
   "execution_count": null,
   "metadata": {},
   "outputs": [],
   "source": []
  }
 ],
 "metadata": {
  "kernelspec": {
   "display_name": "Python 3",
   "language": "python",
   "name": "python3"
  },
  "language_info": {
   "codemirror_mode": {
    "name": "ipython",
    "version": 3
   },
   "file_extension": ".py",
   "mimetype": "text/x-python",
   "name": "python",
   "nbconvert_exporter": "python",
   "pygments_lexer": "ipython3",
   "version": "3.8.3"
  }
 },
 "nbformat": 4,
 "nbformat_minor": 4
}
