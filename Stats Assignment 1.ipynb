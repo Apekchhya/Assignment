{
 "cells": [
  {
   "cell_type": "code",
   "execution_count": 12,
   "metadata": {},
   "outputs": [],
   "source": [
    "import numpy as np\n",
    "from scipy import stats"
   ]
  },
  {
   "cell_type": "markdown",
   "metadata": {},
   "source": [
    "Calculate the mean, median, mode and standard deviation for the problem\n",
    "statements 1& 2.\n",
    "\n",
    "Problem Statement 1:\n",
    "The marks awarded for an assignment set for a Year 8 class of 20 students were as\n",
    "follows:\n",
    "6 7 5 7 7 8 7 6 9 7 4 10 6 8 8 9 5 6 4 8"
   ]
  },
  {
   "cell_type": "code",
   "execution_count": 8,
   "metadata": {},
   "outputs": [
    {
     "name": "stdout",
     "output_type": "stream",
     "text": [
      "The mean is 6.85\n",
      "The median is 7.0\n",
      "ModeResult(mode=array([7]), count=array([5]))\n"
     ]
    }
   ],
   "source": [
    "x = (6,7,5,7,7,8,7,6,9,7,4,10,6,8,8,9,5,6,4,8)\n",
    "print('The mean is' ,np.mean(x))\n",
    "print('The median is' ,np.median(x))\n",
    "print(stats.mode(x))"
   ]
  },
  {
   "cell_type": "code",
   "execution_count": null,
   "metadata": {},
   "outputs": [],
   "source": []
  },
  {
   "cell_type": "markdown",
   "metadata": {},
   "source": [
    "Problem Statement 2:\n",
    "The number of calls from motorists per day for roadside service was recorded for a\n",
    "particular month:\n",
    "28, 122, 217, 130, 120, 86, 80, 90, 140, 120, 70, 40, 145, 113, 90, 68, 174, 194, 170,100, 75, 104, 97, 75,123, 100, 75, 104, 97, 75, 123, 100, 89, 120, 109\n",
    "\n"
   ]
  },
  {
   "cell_type": "code",
   "execution_count": 10,
   "metadata": {},
   "outputs": [
    {
     "name": "stdout",
     "output_type": "stream",
     "text": [
      "The mean is 107.51428571428572\n",
      "The median is 100.0\n",
      "ModeResult(mode=array([75]), count=array([4]))\n"
     ]
    }
   ],
   "source": [
    "y=(28, 122, 217, 130, 120, 86, 80, 90, 140, 120, 70, 40, 145, 113, 90, 68, 174,\n",
    "   194, 170,100, 75, 104, 97, 75,123, 100, 75, 104, 97, 75, 123, 100, 89, 120, 109)\n",
    "print('The mean is' ,np.mean(y))\n",
    "print('The median is' ,np.median(y))\n",
    "print(stats.mode(y))"
   ]
  },
  {
   "cell_type": "code",
   "execution_count": null,
   "metadata": {},
   "outputs": [],
   "source": []
  },
  {
   "cell_type": "markdown",
   "metadata": {},
   "source": [
    "Problem Statement 3:\n",
    "The number of times I go to the gym in weekdays, are given below along with its\n",
    "associated probability:\n",
    "x = 0, 1, 2, 3, 4, 5\n",
    "f(x) = 0.09, 0.15, 0.40, 0.25, 0.10, 0.01\n",
    "Calculate the mean no. of workouts in a week. Also evaluate the variance involved in\n",
    "it."
   ]
  },
  {
   "cell_type": "code",
   "execution_count": 15,
   "metadata": {},
   "outputs": [
    {
     "name": "stdout",
     "output_type": "stream",
     "text": [
      "The mean is 2.5\n",
      "The variance is 2.9166666666666665\n"
     ]
    }
   ],
   "source": [
    "x = 0, 1, 2, 3, 4, 5 \n",
    "y = 0.09, 0.15, 0.40, 0.25, 0.10, 0.01 \n",
    "print('The mean is' ,np.mean(x))\n",
    "print('The variance is' ,np.var(x))"
   ]
  },
  {
   "cell_type": "code",
   "execution_count": null,
   "metadata": {},
   "outputs": [],
   "source": []
  },
  {
   "cell_type": "markdown",
   "metadata": {},
   "source": [
    "Problem statement: 5\n",
    "A company manufactures LED bulbs with a faulty rate of 30%. If I randomly select 6\n",
    "chosen LEDs, what is the probability of having 2 faulty LEDs in my sample?\n",
    "Calculate the average value of this process. Also evaluate the standard deviation\n",
    "associated with it."
   ]
  },
  {
   "cell_type": "code",
   "execution_count": 9,
   "metadata": {},
   "outputs": [],
   "source": [
    "import math\n",
    "import matplotlib.pyplot as plt\n",
    "import seaborn as sns"
   ]
  },
  {
   "cell_type": "code",
   "execution_count": 19,
   "metadata": {},
   "outputs": [
    {
     "name": "stdout",
     "output_type": "stream",
     "text": [
      "Probability is: 0.3241\n",
      "CDF is: 0.74431\n"
     ]
    }
   ],
   "source": [
    "probability = round(binom.pmf(k=2, n=6, p=0.3),4)\n",
    "print(\"Probability is:\", probability)\n",
    "cdf=binom.cdf(k=2, n=6, p=0.3)\n",
    "print(\"CDF is:\", cdf)"
   ]
  },
  {
   "cell_type": "code",
   "execution_count": 24,
   "metadata": {},
   "outputs": [],
   "source": [
    "#mean and standard deviation calculation\n",
    "#mean=np\n",
    "#var=npq"
   ]
  },
  {
   "cell_type": "code",
   "execution_count": 25,
   "metadata": {},
   "outputs": [
    {
     "name": "stdout",
     "output_type": "stream",
     "text": [
      "mean: 1.7999999999999998\n",
      "standard deviation: 1.1224972160321822\n"
     ]
    }
   ],
   "source": [
    "mean, var = binom.stats(n=6,p=0.3)\n",
    "print(\"mean:\", mean)\n",
    "print(\"standard deviation:\", math.sqrt(var))"
   ]
  },
  {
   "cell_type": "code",
   "execution_count": null,
   "metadata": {},
   "outputs": [],
   "source": []
  },
  {
   "cell_type": "markdown",
   "metadata": {},
   "source": [
    "Problem statement:7 Customers arrive at a rate of 72 per hour to my shop. What is the probability of k\n",
    "customers arriving in 4 minutes? a) 5 customers, b) not more than 3 customers, c)\n",
    "more than 3 customers. Give a pictorial representation of the same to validate your\n",
    "answer."
   ]
  },
  {
   "cell_type": "code",
   "execution_count": 1,
   "metadata": {},
   "outputs": [
    {
     "data": {
      "text/plain": [
       "<matplotlib.axes._subplots.AxesSubplot at 0x25b48583cd0>"
      ]
     },
     "execution_count": 1,
     "metadata": {},
     "output_type": "execute_result"
    },
    {
     "data": {
      "image/png": "[encoded data removed]",
      "text/plain": [
       "<Figure size 432x288 with 1 Axes>"
      ]
     },
     "metadata": {
      "needs_background": "light"
     },
     "output_type": "display_data"
    }
   ],
   "source": [
    "from scipy.stats import poisson\n",
    "import matplotlib.pyplot as plt\n",
    "import seaborn as sns\n",
    "#average number of costumer arriving in every 4 minute = 4.8\n",
    "poisson_data=poisson.rvs(mu=4.8, size=1000)\n",
    "sns.distplot(poisson_data, hist=True, kde=True, color=\"blue\")"
   ]
  },
  {
   "cell_type": "code",
   "execution_count": 3,
   "metadata": {},
   "outputs": [
    {
     "name": "stdout",
     "output_type": "stream",
     "text": [
      "The probability of 5 costumers arriving in 4 minutes is 0.1747\n",
      "The probability of not more than 3 costumers arriving in 4 minutes is 0.2942\n",
      "The probability of more than 3 costumers arriving in 4 minutes is 0.7058\n"
     ]
    }
   ],
   "source": [
    "P1 = round(poisson.pmf(k=5,mu=4.8),4)\n",
    "P2 = round(sum(poisson.pmf(k = [0,1,2,3], mu = 4.8)),4)\n",
    "P3 = 1-P2\n",
    "\n",
    "print(\"The probability of 5 costumers arriving in 4 minutes is\", P1)       \n",
    "print(\"The probability of not more than 3 costumers arriving in 4 minutes is\", P2)\n",
    "print(\"The probability of more than 3 costumers arriving in 4 minutes is\", P3)"
   ]
  },
  {
   "cell_type": "code",
   "execution_count": null,
   "metadata": {},
   "outputs": [],
   "source": []
  },
  {
   "cell_type": "markdown",
   "metadata": {},
   "source": [
    "Problem statement:8 I work as a data analyst in Aeon Learning Pvt. Ltd. After analyzing data, I make\n",
    "reports, where I have the efficiency of entering 77 words per minute with 6 errors per\n",
    "hour. What is the probability that I will commit 2 errors in a 455-word financial report?\n",
    "What happens when the no. of words increases/decreases (in case of 1000 words,\n",
    "255 words)?\n",
    "How is the λ affected?\n",
    "How does it influence the PMF?\n",
    "Give a pictorial representation of the same to validate your answer."
   ]
  },
  {
   "cell_type": "code",
   "execution_count": 7,
   "metadata": {},
   "outputs": [],
   "source": [
    "prob1 = poisson.pmf(k=2,mu=0.6)\n",
    "prob2 = poisoon.pmf(k=)"
   ]
  },
  {
   "cell_type": "code",
   "execution_count": null,
   "metadata": {},
   "outputs": [],
   "source": []
  },
  {
   "cell_type": "markdown",
   "metadata": {},
   "source": [
    "Problem statement: 10 The current flow in a copper wire follow a normal distribution with a mean of 10 mA\n",
    "and a variance of 4 (mA)2.\n",
    "What is the probability that a current measurement will exceed 13 mA? What is the\n",
    "probability that a current measurement is between 9 and 11mA? Determine the\n",
    "current measurement which has a probability of 0.98."
   ]
  },
  {
   "cell_type": "code",
   "execution_count": 103,
   "metadata": {},
   "outputs": [],
   "source": [
    "import numpy as np\n",
    "def z_test(x,mean_x,var):\n",
    "    from numpy import sqrt, abs, round\n",
    "    from scipy.stats import norm\n",
    "    z = (x-mean_x)/sqrt(var)\n",
    "    p_value=round((1-norm.cdf(abs(z))),3)\n",
    "    print(\"The probability that the current measurement will exceed\" ,x, \"is:\",p_value)\n"
   ]
  },
  {
   "cell_type": "code",
   "execution_count": 104,
   "metadata": {},
   "outputs": [
    {
     "name": "stdout",
     "output_type": "stream",
     "text": [
      "The probability that the current measurement will exceed 13 is: 0.067\n"
     ]
    }
   ],
   "source": [
    "z_test(13,10,4)"
   ]
  },
  {
   "cell_type": "code",
   "execution_count": 101,
   "metadata": {},
   "outputs": [],
   "source": [
    "def two_tailed_z(max_x,min_x,mean_x, var):\n",
    "    from numpy import sqrt, abs, round\n",
    "    from scipy.stats import norm\n",
    "    z1=(max_x-mean_x)/sqrt(var)\n",
    "    z2=(min_x-mean_x)/sqrt(var)\n",
    "    p_value1=(1-norm.cdf(z1))\n",
    "    p_value2=(1-norm.cdf(z2))\n",
    "    p_req=round(p_value2-p_value1,2)\n",
    "    print(\"The probability that the current measurement is between\", min_x ,\"and\" ,max_x ,\"is:\",p_req)\n"
   ]
  },
  {
   "cell_type": "code",
   "execution_count": 102,
   "metadata": {},
   "outputs": [
    {
     "name": "stdout",
     "output_type": "stream",
     "text": [
      "The probability that the current measurement is between 9 and 11 is: 0.38\n"
     ]
    }
   ],
   "source": [
    "two_tailed_z(11,9,10,4)"
   ]
  },
  {
   "cell_type": "code",
   "execution_count": 129,
   "metadata": {},
   "outputs": [],
   "source": [
    "import numpy as np\n",
    "def z_test(mean_x,var,p_val):\n",
    "    from numpy import sqrt, abs, round\n",
    "    from scipy.stats import norm\n",
    "    z = norm.ppf(p_val)\n",
    "    x = round(z*sqrt(var)+mean_x,2)\n",
    "    print(\"The current measure which has probability of\",p_val,\"is:\",x)\n"
   ]
  },
  {
   "cell_type": "code",
   "execution_count": 130,
   "metadata": {},
   "outputs": [
    {
     "name": "stdout",
     "output_type": "stream",
     "text": [
      "The current measure which has probability of 0.98 is: 14.11\n"
     ]
    }
   ],
   "source": [
    "z_test(10,4,0.98)"
   ]
  }
 ],
 "metadata": {
  "kernelspec": {
   "display_name": "Python 3",
   "language": "python",
   "name": "python3"
  },
  "language_info": {
   "codemirror_mode": {
    "name": "ipython",
    "version": 3
   },
   "file_extension": ".py",
   "mimetype": "text/x-python",
   "name": "python",
   "nbconvert_exporter": "python",
   "pygments_lexer": "ipython3",
   "version": "3.8.3"
  }
 },
 "nbformat": 4,
 "nbformat_minor": 4
}
